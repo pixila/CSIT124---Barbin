{
  "nbformat": 4,
  "nbformat_minor": 0,
  "metadata": {
    "colab": {
      "provenance": [],
      "authorship_tag": "ABX9TyPCSXt5HrSI5ttrhUw1Jlrc",
      "include_colab_link": true
    },
    "kernelspec": {
      "name": "python3",
      "display_name": "Python 3"
    },
    "language_info": {
      "name": "python"
    }
  },
  "cells": [
    {
      "cell_type": "markdown",
      "metadata": {
        "id": "view-in-github",
        "colab_type": "text"
      },
      "source": [
        "<a href=\"https://colab.research.google.com/github/pixila/CSIT124---Barbin/blob/main/StringFormatting.ipynb\" target=\"_parent\"><img src=\"https://colab.research.google.com/assets/colab-badge.svg\" alt=\"Open In Colab\"/></a>"
      ]
    },
    {
      "cell_type": "code",
      "execution_count": 1,
      "metadata": {
        "colab": {
          "base_uri": "https://localhost:8080/"
        },
        "id": "i4xhga3HGKo4",
        "outputId": "7966f286-b7c1-4ad9-d74a-66d602cbad4e"
      },
      "outputs": [
        {
          "output_type": "stream",
          "name": "stdout",
          "text": [
            "My name is John and I am 25 years old.\n"
          ]
        }
      ],
      "source": [
        "name = \"John\"\n",
        "age = 25\n",
        "\n",
        "formatted_string = \"My name is %s and I am %d years old.\" % (name, age)\n",
        "print(formatted_string)"
      ]
    },
    {
      "cell_type": "code",
      "source": [
        "product_name = \"Laptop\"\n",
        "price = 1200.50\n",
        "quantity = 2\n",
        "\n",
        "order_summary = \"You have ordered {} {}(s) at a total cost of ${:.2f}.\".format(quantity, product_name, price * quantity)\n",
        "\n",
        "print(order_summary)"
      ],
      "metadata": {
        "colab": {
          "base_uri": "https://localhost:8080/"
        },
        "id": "MqRCaEhxGQX1",
        "outputId": "c5252323-55cc-46bf-befc-09f220f068a1"
      },
      "execution_count": 2,
      "outputs": [
        {
          "output_type": "stream",
          "name": "stdout",
          "text": [
            "You have ordered 2 Laptop(s) at a total cost of $2401.00.\n"
          ]
        }
      ]
    },
    {
      "cell_type": "code",
      "source": [
        "name = \"Alice\"\n",
        "age = 30\n",
        "\n",
        "intro_message = f\"Hello, my name is {name} and I am {age} years old.\"\n",
        "\n",
        "print(intro_message)"
      ],
      "metadata": {
        "colab": {
          "base_uri": "https://localhost:8080/"
        },
        "id": "4K2-3g5_GT1V",
        "outputId": "74623f5f-24f9-48ab-b43e-54c7d444956e"
      },
      "execution_count": 3,
      "outputs": [
        {
          "output_type": "stream",
          "name": "stdout",
          "text": [
            "Hello, my name is Alice and I am 30 years old.\n"
          ]
        }
      ]
    },
    {
      "cell_type": "code",
      "source": [],
      "metadata": {
        "id": "UsnHkTqZGYht"
      },
      "execution_count": null,
      "outputs": []
    }
  ]
}