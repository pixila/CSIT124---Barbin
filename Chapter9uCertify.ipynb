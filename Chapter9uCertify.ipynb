{
  "nbformat": 4,
  "nbformat_minor": 0,
  "metadata": {
    "colab": {
      "provenance": [],
      "authorship_tag": "ABX9TyNI15YZnr0wwa4aOMM2DTgj",
      "include_colab_link": true
    },
    "kernelspec": {
      "name": "python3",
      "display_name": "Python 3"
    },
    "language_info": {
      "name": "python"
    }
  },
  "cells": [
    {
      "cell_type": "markdown",
      "metadata": {
        "id": "view-in-github",
        "colab_type": "text"
      },
      "source": [
        "<a href=\"https://colab.research.google.com/github/pixila/Python---Barbin/blob/main/Chapter9uCertify.ipynb\" target=\"_parent\"><img src=\"https://colab.research.google.com/assets/colab-badge.svg\" alt=\"Open In Colab\"/></a>"
      ]
    },
    {
      "cell_type": "code",
      "execution_count": 3,
      "metadata": {
        "colab": {
          "base_uri": "https://localhost:8080/"
        },
        "id": "x2p3-IqfCwI3",
        "outputId": "ed3a329a-e9c6-4b74-fd4d-2de3d78a205c"
      },
      "outputs": [
        {
          "output_type": "stream",
          "name": "stdout",
          "text": [
            "Letter 1 is H\n",
            "Letter 2 is o\n",
            "Letter 3 is w\n",
            "Letter 4 is d\n",
            "Letter 5 is y\n",
            "Letter 6 is !\n"
          ]
        }
      ],
      "source": [
        "for Letter in \"Howdy!\":"
      ]
    },
    {
      "cell_type": "code",
      "source": [
        "Value = input(\"Type less than 6 characters: \")\n",
        "LetterNum = 1\n",
        "for Letter in Value:\n",
        "   print(\"Letter \", LetterNum, \" is \", Letter)\n",
        "   LetterNum += 1\n",
        "   if LetterNum > 6:\n",
        "      print(\"The string is too long!\")\n",
        "      break"
      ],
      "metadata": {
        "colab": {
          "base_uri": "https://localhost:8080/"
        },
        "id": "uoxmm17xDsD-",
        "outputId": "38fa331c-1fe6-4f77-a06e-53a5c47a33a3"
      },
      "execution_count": 7,
      "outputs": [
        {
          "output_type": "stream",
          "name": "stdout",
          "text": [
            "Type less than 6 characters: Hello\n",
            "Letter  1  is  H\n",
            "Letter  2  is  e\n",
            "Letter  3  is  l\n",
            "Letter  4  is  l\n",
            "Letter  5  is  o\n"
          ]
        }
      ]
    },
    {
      "cell_type": "code",
      "source": [
        "Value = input(\"Type less than 6 characters: \")\n",
        "LetterNum = 1\n",
        "for Letter in Value:\n",
        "   print(\"Letter \", LetterNum, \" is \", Letter)\n",
        "   LetterNum += 1\n",
        "   if LetterNum > 6:\n",
        "      print(\"The string is too long!\")\n",
        "      break"
      ],
      "metadata": {
        "colab": {
          "base_uri": "https://localhost:8080/"
        },
        "id": "S50kc4TrEYy9",
        "outputId": "5a71d25a-03a1-439d-eff2-69c9da27ff90"
      },
      "execution_count": 8,
      "outputs": [
        {
          "output_type": "stream",
          "name": "stdout",
          "text": [
            "Type less than 6 characters: I am too long\n",
            "Letter  1  is  I\n",
            "Letter  2  is   \n",
            "Letter  3  is  a\n",
            "Letter  4  is  m\n",
            "Letter  5  is   \n",
            "Letter  6  is  t\n",
            "The string is too long!\n"
          ]
        }
      ]
    },
    {
      "cell_type": "code",
      "source": [
        "LetterNum = 1\n",
        "for Letter in \"Howdy!\":\n",
        "   if Letter == \"w\":\n",
        "      continue\n",
        "      print(\"Encountered w, not processed.\")\n",
        "   print(\"Letter \", LetterNum, \" is \", Letter)\n",
        "   LetterNum += 1\n",
        ""
      ],
      "metadata": {
        "colab": {
          "base_uri": "https://localhost:8080/"
        },
        "id": "W3Xtf_bFEbsd",
        "outputId": "46df4dbc-0be5-4048-daad-99ebac54467c"
      },
      "execution_count": 9,
      "outputs": [
        {
          "output_type": "stream",
          "name": "stdout",
          "text": [
            "Letter  1  is  H\n",
            "Letter  2  is  o\n",
            "Letter  3  is  d\n",
            "Letter  4  is  y\n",
            "Letter  5  is  !\n"
          ]
        }
      ]
    },
    {
      "cell_type": "code",
      "source": [
        "LetterNum = 1\n",
        "for Letter in \"Howdy!\":\n",
        "   if Letter == \"w\":\n",
        "      pass # Add some code here later to process w\n",
        "   print(\"Letter \", LetterNum, \" is \", Letter)\n",
        "   LetterNum += 1"
      ],
      "metadata": {
        "colab": {
          "base_uri": "https://localhost:8080/"
        },
        "id": "3Xd-ScQ-EiVt",
        "outputId": "64a6b903-fb43-44e6-e54a-082f862a5897"
      },
      "execution_count": 10,
      "outputs": [
        {
          "output_type": "stream",
          "name": "stdout",
          "text": [
            "Letter  1  is  H\n",
            "Letter  2  is  o\n",
            "Letter  3  is  w\n",
            "Letter  4  is  d\n",
            "Letter  5  is  y\n",
            "Letter  6  is  !\n"
          ]
        }
      ]
    },
    {
      "cell_type": "code",
      "source": [
        "Value = input(\"Type less than 6 characters: \")\n",
        "LetterNum = 1\n",
        "for Letter in Value:\n",
        "   print(\"Letter \", LetterNum, \" is \", Letter)\n",
        "   LetterNum += 1\n",
        "   if (Letter == \"\" or Letter == Value[-1]):\n",
        "      break\n",
        "else:\n",
        "   print(\"The string is blank.\")"
      ],
      "metadata": {
        "colab": {
          "base_uri": "https://localhost:8080/"
        },
        "id": "FXXiVgd9ErKt",
        "outputId": "75d32ccd-daf2-4189-be8c-37da69c43616"
      },
      "execution_count": 11,
      "outputs": [
        {
          "output_type": "stream",
          "name": "stdout",
          "text": [
            "Type less than 6 characters: Hello\n",
            "Letter  1  is  H\n",
            "Letter  2  is  e\n",
            "Letter  3  is  l\n",
            "Letter  4  is  l\n",
            "Letter  5  is  o\n"
          ]
        }
      ]
    },
    {
      "cell_type": "code",
      "source": [
        "Value = input(\"Type less than 6 characters: \")\n",
        "LetterNum = 1\n",
        "for Letter in Value:\n",
        "   print(\"Letter \", LetterNum, \" is \", Letter)\n",
        "   LetterNum += 1\n",
        "   if (Letter == \"\" or Letter == Value[-1]):\n",
        "      break\n",
        "else:\n",
        "   print(\"The string is blank.\")"
      ],
      "metadata": {
        "colab": {
          "base_uri": "https://localhost:8080/"
        },
        "id": "tuEjy8JyEu29",
        "outputId": "ba0f9ec8-6677-4e30-9d7c-526698a27433"
      },
      "execution_count": 13,
      "outputs": [
        {
          "output_type": "stream",
          "name": "stdout",
          "text": [
            "Type less than 6 characters: Water Bottle\n",
            "Letter  1  is  W\n",
            "Letter  2  is  a\n",
            "Letter  3  is  t\n",
            "Letter  4  is  e\n"
          ]
        }
      ]
    },
    {
      "cell_type": "code",
      "source": [
        "Sum = 0\n",
        "while Sum < 5:\n",
        "   print(Sum)\n",
        "   Sum += 1"
      ],
      "metadata": {
        "colab": {
          "base_uri": "https://localhost:8080/"
        },
        "id": "Iej0zmf5E0Mt",
        "outputId": "503e46cc-d8c8-49d8-9462-595feee9c372"
      },
      "execution_count": 14,
      "outputs": [
        {
          "output_type": "stream",
          "name": "stdout",
          "text": [
            "0\n",
            "1\n",
            "2\n",
            "3\n",
            "4\n"
          ]
        }
      ]
    },
    {
      "cell_type": "code",
      "source": [
        "X = 1\n",
        "Y = 1\n",
        "print ('{:>4}'.format(' '), end= ' ')\n",
        "for X in range(1, 11):\n",
        "   print('{:>4}'.format(X), end=' ')\n",
        "print()\n",
        "for X in range(1,11):\n",
        "   print('{:>4}'.format(X), end=' ')\n",
        "   while Y <= 10:\n",
        "      print('{:>4}'.format(X * Y), end=' ')\n",
        "      Y += 1\n",
        "   print()\n",
        "   Y=1"
      ],
      "metadata": {
        "colab": {
          "base_uri": "https://localhost:8080/"
        },
        "id": "qn9PHfXhFLJV",
        "outputId": "02ac2c43-37c0-40e4-e57a-d6d9d7c67664"
      },
      "execution_count": 15,
      "outputs": [
        {
          "output_type": "stream",
          "name": "stdout",
          "text": [
            "        1    2    3    4    5    6    7    8    9   10 \n",
            "   1    1    2    3    4    5    6    7    8    9   10 \n",
            "   2    2    4    6    8   10   12   14   16   18   20 \n",
            "   3    3    6    9   12   15   18   21   24   27   30 \n",
            "   4    4    8   12   16   20   24   28   32   36   40 \n",
            "   5    5   10   15   20   25   30   35   40   45   50 \n",
            "   6    6   12   18   24   30   36   42   48   54   60 \n",
            "   7    7   14   21   28   35   42   49   56   63   70 \n",
            "   8    8   16   24   32   40   48   56   64   72   80 \n",
            "   9    9   18   27   36   45   54   63   72   81   90 \n",
            "  10   10   20   30   40   50   60   70   80   90  100 \n"
          ]
        }
      ]
    },
    {
      "cell_type": "code",
      "source": [
        "num = 10\n",
        "while num > 0:\n",
        "    print(num, end=\" \")\n",
        "    num -= 3"
      ],
      "metadata": {
        "colab": {
          "base_uri": "https://localhost:8080/"
        },
        "id": "r1AnVvMxFd2l",
        "outputId": "33f7976e-1add-4af5-99ab-fdf58f238567"
      },
      "execution_count": 16,
      "outputs": [
        {
          "output_type": "stream",
          "name": "stdout",
          "text": [
            "10 7 4 1 "
          ]
        }
      ]
    },
    {
      "cell_type": "code",
      "source": [
        "total = 0\n",
        "for i in range(5):\n",
        "    total += i\n",
        "print(total)"
      ],
      "metadata": {
        "colab": {
          "base_uri": "https://localhost:8080/"
        },
        "id": "m1nolB1-F8zd",
        "outputId": "af57f709-df8c-4f35-80a8-5bb461286108"
      },
      "execution_count": 17,
      "outputs": [
        {
          "output_type": "stream",
          "name": "stdout",
          "text": [
            "10\n"
          ]
        }
      ]
    },
    {
      "cell_type": "code",
      "source": [
        "for number in range(1, 6):\n",
        " square = number ** 2\n",
        " print(f\"The square of {number} is {square}\")"
      ],
      "metadata": {
        "colab": {
          "base_uri": "https://localhost:8080/"
        },
        "id": "kfRv01GSGAF9",
        "outputId": "6b17bd0c-2c39-4fe6-fe36-ca8bb84503de"
      },
      "execution_count": 18,
      "outputs": [
        {
          "output_type": "stream",
          "name": "stdout",
          "text": [
            "The square of 1 is 1\n",
            "The square of 2 is 4\n",
            "The square of 3 is 9\n",
            "The square of 4 is 16\n",
            "The square of 5 is 25\n"
          ]
        }
      ]
    },
    {
      "cell_type": "code",
      "source": [
        "for number in range(1, 6):\n",
        " square = number ** 2\n",
        " print(f\"The square of {number} is {square}\")\n",
        " if square > 10:\n",
        "  print(f\"The square exceeds 10. Breaking out of the loop.\")\n",
        "  break"
      ],
      "metadata": {
        "colab": {
          "base_uri": "https://localhost:8080/"
        },
        "id": "KmG53QdpGRbd",
        "outputId": "23ef7472-9f3e-43b9-c46d-ed7d537a69a8"
      },
      "execution_count": 19,
      "outputs": [
        {
          "output_type": "stream",
          "name": "stdout",
          "text": [
            "The square of 1 is 1\n",
            "The square of 2 is 4\n",
            "The square of 3 is 9\n",
            "The square of 4 is 16\n",
            "The square exceeds 10. Breaking out of the loop.\n"
          ]
        }
      ]
    },
    {
      "cell_type": "code",
      "source": [
        "for number in range(1, 6):\n",
        " square = number ** 2\n",
        " if square > 10:\n",
        "  print(f\"The square of {number} exceeds 10. Skipping this iteration.\")\n",
        "  continue\n",
        " print(f\"The square of {number} is {square}\")"
      ],
      "metadata": {
        "colab": {
          "base_uri": "https://localhost:8080/"
        },
        "id": "Yps-lNi9HCH0",
        "outputId": "40e922c3-99ff-4ac6-e1bd-d5f9fa494c97"
      },
      "execution_count": 20,
      "outputs": [
        {
          "output_type": "stream",
          "name": "stdout",
          "text": [
            "The square of 1 is 1\n",
            "The square of 2 is 4\n",
            "The square of 3 is 9\n",
            "The square of 4 exceeds 10. Skipping this iteration.\n",
            "The square of 5 exceeds 10. Skipping this iteration.\n"
          ]
        }
      ]
    },
    {
      "cell_type": "code",
      "source": [
        "count = 1"
      ],
      "metadata": {
        "id": "_OjmDasSHI1M"
      },
      "execution_count": 21,
      "outputs": []
    },
    {
      "cell_type": "code",
      "source": [
        "while count <= 5:\n",
        "  print(count)\n",
        "  count += 1"
      ],
      "metadata": {
        "colab": {
          "base_uri": "https://localhost:8080/"
        },
        "id": "Cy0FVGxwIGCM",
        "outputId": "0e9db2e2-cebe-4c35-e613-a44ebeab6e79"
      },
      "execution_count": 22,
      "outputs": [
        {
          "output_type": "stream",
          "name": "stdout",
          "text": [
            "1\n",
            "2\n",
            "3\n",
            "4\n",
            "5\n"
          ]
        }
      ]
    },
    {
      "cell_type": "code",
      "source": [
        "count = 1\n"
      ],
      "metadata": {
        "id": "p8Jf3ETaI7Ts"
      },
      "execution_count": 23,
      "outputs": []
    },
    {
      "cell_type": "code",
      "source": [
        "while True:\n",
        " print(count)\n",
        " count += 1\n",
        " if count > 4:\n",
        "  break"
      ],
      "metadata": {
        "colab": {
          "base_uri": "https://localhost:8080/"
        },
        "id": "Szi5afkeJNM8",
        "outputId": "02b37f96-7e29-484f-a77b-2eccf38bb438"
      },
      "execution_count": 24,
      "outputs": [
        {
          "output_type": "stream",
          "name": "stdout",
          "text": [
            "1\n",
            "2\n",
            "3\n",
            "4\n"
          ]
        }
      ]
    },
    {
      "cell_type": "code",
      "source": [
        "count = 1"
      ],
      "metadata": {
        "id": "7vmhwXF_JN1c"
      },
      "execution_count": 25,
      "outputs": []
    },
    {
      "cell_type": "code",
      "source": [
        "while count <= 5:\n",
        " if count == 4:\n",
        "  print(\"Skipping the rest of the loop.\")\n",
        "  count += 1\n",
        "  continue\n",
        " print(count)\n",
        " count += 1"
      ],
      "metadata": {
        "colab": {
          "base_uri": "https://localhost:8080/"
        },
        "id": "qfvrkXmuJQiM",
        "outputId": "0c1ddac3-1fda-4071-9fc2-e2ec0e089ab4"
      },
      "execution_count": 26,
      "outputs": [
        {
          "output_type": "stream",
          "name": "stdout",
          "text": [
            "1\n",
            "2\n",
            "3\n",
            "Skipping the rest of the loop.\n",
            "5\n"
          ]
        }
      ]
    },
    {
      "cell_type": "code",
      "source": [
        "def print_triangle(rows):\n",
        " for i in range(rows):\n",
        "  for j in range(i + 1):\n",
        "   print(\"*\", end=\" \")\n",
        "  print()\n",
        "\n",
        "num_rows = 5\n",
        "\n",
        "print_triangle(num_rows)"
      ],
      "metadata": {
        "colab": {
          "base_uri": "https://localhost:8080/"
        },
        "id": "Ibf6KA9cJSis",
        "outputId": "bb2ceacb-359a-4f52-d906-e55a356ec01e"
      },
      "execution_count": 27,
      "outputs": [
        {
          "output_type": "stream",
          "name": "stdout",
          "text": [
            "* \n",
            "* * \n",
            "* * * \n",
            "* * * * \n",
            "* * * * * \n"
          ]
        }
      ]
    },
    {
      "cell_type": "code",
      "source": [
        "row = 1"
      ],
      "metadata": {
        "id": "89bkgiD1Jdh8"
      },
      "execution_count": 28,
      "outputs": []
    },
    {
      "cell_type": "code",
      "source": [
        "while row <= 5:\n",
        " col = 1\n",
        "\n",
        " while col <= row:\n",
        "  print(col, end=\" \")\n",
        "  col += 1\n",
        "\n",
        " print()\n",
        " row += 1"
      ],
      "metadata": {
        "colab": {
          "base_uri": "https://localhost:8080/"
        },
        "id": "WzRuJ0_hLZXM",
        "outputId": "f25f878d-d652-4a94-ec54-a196f901896d"
      },
      "execution_count": 29,
      "outputs": [
        {
          "output_type": "stream",
          "name": "stdout",
          "text": [
            "1 \n",
            "1 2 \n",
            "1 2 3 \n",
            "1 2 3 4 \n",
            "1 2 3 4 5 \n"
          ]
        }
      ]
    },
    {
      "cell_type": "code",
      "source": [
        "X = 1\n",
        "Y = 1"
      ],
      "metadata": {
        "id": "R-Ftt3RFLbFT"
      },
      "execution_count": 31,
      "outputs": []
    },
    {
      "cell_type": "code",
      "source": [
        "print ('{:>4}'.format(' '), end= ' ')\n",
        "for X in range(1, 11):\n",
        " print('{:>4}'.format(X), end=' ')\n",
        "print()\n",
        "for X in range(1,11):\n",
        " print('{:>4}'.format(X), end=' ')\n",
        " while Y <= 10:\n",
        "  print('{:>4}'.format(X * Y), end=' ')\n",
        "  Y += 1\n",
        " print()\n",
        " Y=1"
      ],
      "metadata": {
        "colab": {
          "base_uri": "https://localhost:8080/"
        },
        "id": "rMbZbyDHLqMj",
        "outputId": "25e5c9dc-56be-4ac8-d4ef-0a24efe0021f"
      },
      "execution_count": 32,
      "outputs": [
        {
          "output_type": "stream",
          "name": "stdout",
          "text": [
            "        1    2    3    4    5    6    7    8    9   10 \n",
            "   1    1    2    3    4    5    6    7    8    9   10 \n",
            "   2    2    4    6    8   10   12   14   16   18   20 \n",
            "   3    3    6    9   12   15   18   21   24   27   30 \n",
            "   4    4    8   12   16   20   24   28   32   36   40 \n",
            "   5    5   10   15   20   25   30   35   40   45   50 \n",
            "   6    6   12   18   24   30   36   42   48   54   60 \n",
            "   7    7   14   21   28   35   42   49   56   63   70 \n",
            "   8    8   16   24   32   40   48   56   64   72   80 \n",
            "   9    9   18   27   36   45   54   63   72   81   90 \n",
            "  10   10   20   30   40   50   60   70   80   90  100 \n"
          ]
        }
      ]
    },
    {
      "cell_type": "code",
      "source": [],
      "metadata": {
        "id": "HNVczES5Lttb"
      },
      "execution_count": null,
      "outputs": []
    }
  ]
}