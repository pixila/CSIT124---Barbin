{
  "nbformat": 4,
  "nbformat_minor": 0,
  "metadata": {
    "colab": {
      "provenance": [],
      "authorship_tag": "ABX9TyMl/FDbuGNeT/VKgXDSeQ7k",
      "include_colab_link": true
    },
    "kernelspec": {
      "name": "python3",
      "display_name": "Python 3"
    },
    "language_info": {
      "name": "python"
    }
  },
  "cells": [
    {
      "cell_type": "markdown",
      "metadata": {
        "id": "view-in-github",
        "colab_type": "text"
      },
      "source": [
        "<a href=\"https://colab.research.google.com/github/pixila/Python---Barbin/blob/main/Module3_ControlStructures_PracticeLab_PriscillaBarbin.ipynb\" target=\"_parent\"><img src=\"https://colab.research.google.com/assets/colab-badge.svg\" alt=\"Open In Colab\"/></a>"
      ]
    },
    {
      "cell_type": "code",
      "execution_count": null,
      "metadata": {
        "colab": {
          "base_uri": "https://localhost:8080/"
        },
        "id": "mrjj1PeAVGe0",
        "outputId": "976c827e-a70b-4d1f-fca6-55c35e043296"
      },
      "outputs": [
        {
          "output_type": "stream",
          "name": "stdout",
          "text": [
            "How many books have you read this year? 47\n",
            "You’ve read 47 books — that’s an odd number!\n"
          ]
        }
      ],
      "source": [
        "books_read = int(input(\"How many books have you read this year? \"))\n",
        "\n",
        "if books_read % 2 == 0:\n",
        "    print(f\"You’ve read {books_read} books! That’s an even number!\")\n",
        "else:\n",
        "    print(f\"You’ve read {books_read} books! That’s an odd number!\")"
      ]
    },
    {
      "cell_type": "code",
      "source": [
        "print(\"Books placed on every 3rd spot of a 30-book shelf:\")\n",
        "for position in range(1, 31):\n",
        "    if position % 3 == 0:\n",
        "        print(f\"Book at position {position}\")"
      ],
      "metadata": {
        "colab": {
          "base_uri": "https://localhost:8080/"
        },
        "id": "RbCvz4Z4Vp-q",
        "outputId": "996d6df7-403d-403a-831e-49d9aa16cb2b"
      },
      "execution_count": null,
      "outputs": [
        {
          "output_type": "stream",
          "name": "stdout",
          "text": [
            "Books placed on every 3rd spot of a 30-book shelf:\n",
            "Book at position 3\n",
            "Book at position 6\n",
            "Book at position 9\n",
            "Book at position 12\n",
            "Book at position 15\n",
            "Book at position 18\n",
            "Book at position 21\n",
            "Book at position 24\n",
            "Book at position 27\n",
            "Book at position 30\n"
          ]
        }
      ]
    },
    {
      "cell_type": "code",
      "source": [
        "pile = int(input(\"Enter how many books are in the pile: \"))\n",
        "\n",
        "while pile > 0:\n",
        "    print(f\"Removing book {pile} from the pile...\")\n",
        "    pile -= 1\n",
        "\n",
        "print(\"No more books left in the pile!\")"
      ],
      "metadata": {
        "colab": {
          "base_uri": "https://localhost:8080/"
        },
        "id": "MjSR7savV3SB",
        "outputId": "9f1c8507-1b9d-4d97-b581-da408da033f7"
      },
      "execution_count": null,
      "outputs": [
        {
          "output_type": "stream",
          "name": "stdout",
          "text": [
            "Enter how many books are in the pile: 13\n",
            "Removing book 13 from the pile...\n",
            "Removing book 12 from the pile...\n",
            "Removing book 11 from the pile...\n",
            "Removing book 10 from the pile...\n",
            "Removing book 9 from the pile...\n",
            "Removing book 8 from the pile...\n",
            "Removing book 7 from the pile...\n",
            "Removing book 6 from the pile...\n",
            "Removing book 5 from the pile...\n",
            "Removing book 4 from the pile...\n",
            "Removing book 3 from the pile...\n",
            "Removing book 2 from the pile...\n",
            "Removing book 1 from the pile...\n",
            "No more books left in the pile!\n"
          ]
        }
      ]
    },
    {
      "cell_type": "code",
      "source": [],
      "metadata": {
        "id": "sCxT65UsWDD5"
      },
      "execution_count": null,
      "outputs": []
    }
  ]
}