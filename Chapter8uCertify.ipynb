{
  "nbformat": 4,
  "nbformat_minor": 0,
  "metadata": {
    "colab": {
      "provenance": [],
      "authorship_tag": "ABX9TyOrzuFw4btJZUV1YV5rmrUI",
      "include_colab_link": true
    },
    "kernelspec": {
      "name": "python3",
      "display_name": "Python 3"
    },
    "language_info": {
      "name": "python"
    }
  },
  "cells": [
    {
      "cell_type": "markdown",
      "metadata": {
        "id": "view-in-github",
        "colab_type": "text"
      },
      "source": [
        "<a href=\"https://colab.research.google.com/github/pixila/Python---Barbin/blob/main/Chapter8uCertify.ipynb\" target=\"_parent\"><img src=\"https://colab.research.google.com/assets/colab-badge.svg\" alt=\"Open In Colab\"/></a>"
      ]
    },
    {
      "cell_type": "code",
      "source": [
        "TestMe = 6\n",
        "\n",
        "if TestMe == 6:\n",
        "  print(\"TestMe does equal 6!\")"
      ],
      "metadata": {
        "colab": {
          "base_uri": "https://localhost:8080/"
        },
        "id": "ZHHtgRwx9pUP",
        "outputId": "7ef319fb-ca24-4273-d357-23fb3b6d345a"
      },
      "execution_count": null,
      "outputs": [
        {
          "output_type": "stream",
          "name": "stdout",
          "text": [
            "TestMe does equal 6!\n"
          ]
        }
      ]
    },
    {
      "cell_type": "code",
      "source": [
        "TestMe = 6\n",
        "if TestMe == 6:\n",
        "   print(\"TestMe does equal 6!\")\n",
        "   print(\"All done!\")"
      ],
      "metadata": {
        "colab": {
          "base_uri": "https://localhost:8080/"
        },
        "id": "vtUprqrf97I3",
        "outputId": "c1b7aa35-02ad-4dd1-bb01-09c5afdb7851"
      },
      "execution_count": null,
      "outputs": [
        {
          "output_type": "stream",
          "name": "stdout",
          "text": [
            "TestMe does equal 6!\n",
            "All done!\n"
          ]
        }
      ]
    },
    {
      "cell_type": "code",
      "source": [
        "Value = int(input(\"Type a number between 1 and 10: \"))\n",
        "if (Value > 0) and (Value <= 10):\n",
        "   print(\"You typed: \", Value)"
      ],
      "metadata": {
        "colab": {
          "base_uri": "https://localhost:8080/"
        },
        "id": "7JLiuU-R-VhG",
        "outputId": "21573fba-4bad-4307-b6ab-355777b819ae"
      },
      "execution_count": null,
      "outputs": [
        {
          "output_type": "stream",
          "name": "stdout",
          "text": [
            "Type a number between 1 and 10: 7\n",
            "You typed:  7\n"
          ]
        }
      ]
    },
    {
      "cell_type": "code",
      "source": [
        "Value = int(input(\"Type a number between 1 and 10: \"))\n",
        "if (Value > 0) and (Value <= 10):\n",
        "   print(\"You typed: \", Value)\n",
        "else:\n",
        "   print(\"The value you typed is incorrect!\")"
      ],
      "metadata": {
        "colab": {
          "base_uri": "https://localhost:8080/"
        },
        "id": "O4wRXeEb-Y52",
        "outputId": "d989d336-3edd-4aaf-9d5f-2926494f006e"
      },
      "execution_count": null,
      "outputs": [
        {
          "output_type": "stream",
          "name": "stdout",
          "text": [
            "Type a number between 1 and 10: 13\n",
            "The value you typed is incorrect!\n"
          ]
        }
      ]
    },
    {
      "cell_type": "code",
      "source": [
        "print(\"1. Red\")\n",
        "print(\"2. Orange\")\n",
        "print(\"3. Yellow\")\n",
        "print(\"4. Green\")\n",
        "print(\"5. Blue\")\n",
        "print(\"6. Purple\")\n",
        "Choice = int(input(\"Select your favorite color: \"))\n",
        "if (Choice == 1):\n",
        "   print(\"You chose Red!\")\n",
        "elif (Choice == 2):\n",
        "   print(\"You chose Orange!\")\n",
        "elif (Choice == 3):\n",
        "   print(\"You chose Yellow!\")\n",
        "elif (Choice == 4):\n",
        "   print(\"You chose Green!\")\n",
        "elif (Choice == 5):\n",
        "   print(\"You chose Blue!\")\n",
        "elif (Choice == 6):\n",
        "   print(\"You chose Purple!\")\n",
        "else:\n",
        "   print(\"You made an invalid choice!\")"
      ],
      "metadata": {
        "colab": {
          "base_uri": "https://localhost:8080/"
        },
        "id": "wJi7RIs_-tfW",
        "outputId": "46c7fa35-7de1-40e0-cc95-acb13d80ba1b"
      },
      "execution_count": null,
      "outputs": [
        {
          "output_type": "stream",
          "name": "stdout",
          "text": [
            "1. Red\n",
            "2. Orange\n",
            "3. Yellow\n",
            "4. Green\n",
            "5. Blue\n",
            "6. Purple\n",
            "Select your favorite color: 5\n",
            "You chose Blue!\n"
          ]
        }
      ]
    },
    {
      "cell_type": "code",
      "source": [
        "print(\"1. Aries\")\n",
        "print(\"2. Taurus\")\n",
        "print(\"3. Gemini\")\n",
        "print(\"4. Cancer\")\n",
        "print(\"5. Leo\")\n",
        "print(\"6. Virgo\")\n",
        "print(\"7. Libra\")\n",
        "print(\"8. Scorpio\")\n",
        "print(\"9. Sagittarius\")\n",
        "print(\"10. Capricorn\")\n",
        "print(\"11. Aquarius\")\n",
        "print(\"12. Pisces\")\n",
        "\n",
        "Choice = int(input(\"Select your zodiac sign (1–12): \"))\n",
        "\n",
        "if Choice == 1:\n",
        "    print(\"You chose Aries!\")\n",
        "elif Choice == 2:\n",
        "    print(\"You chose Taurus!\")\n",
        "elif Choice == 3:\n",
        "    print(\"You chose Gemini!\")\n",
        "elif Choice == 4:\n",
        "    print(\"You chose Cancer!\")\n",
        "elif Choice == 5:\n",
        "    print(\"You chose Leo!\")\n",
        "elif Choice == 6:\n",
        "    print(\"You chose Virgo!\")\n",
        "elif Choice == 7:\n",
        "    print(\"You chose Libra!\")\n",
        "elif Choice == 8:\n",
        "    print(\"You chose Scorpio!\")\n",
        "elif Choice == 9:\n",
        "    print(\"You chose Sagittarius!\")\n",
        "elif Choice == 10:\n",
        "    print(\"You chose Capricorn!\")\n",
        "elif Choice == 11:\n",
        "    print(\"You chose Aquarius!\")\n",
        "elif Choice == 12:\n",
        "    print(\"You chose Pisces!\")\n",
        "else:\n",
        "    print(\"You made an invalid choice!\")"
      ],
      "metadata": {
        "colab": {
          "base_uri": "https://localhost:8080/"
        },
        "id": "1PhRj9-F_G9m",
        "outputId": "756063bb-7f84-4354-e418-ea87f1d4e242"
      },
      "execution_count": null,
      "outputs": [
        {
          "output_type": "stream",
          "name": "stdout",
          "text": [
            "1. Aries\n",
            "2. Taurus\n",
            "3. Gemini\n",
            "4. Cancer\n",
            "5. Leo\n",
            "6. Virgo\n",
            "7. Libra\n",
            "8. Scorpio\n",
            "9. Sagittarius\n",
            "10. Capricorn\n",
            "11. Aquarius\n",
            "12. Pisces\n",
            "Select your zodiac sign (1–12): 10\n",
            "You chose Capricorn!\n"
          ]
        }
      ]
    },
    {
      "cell_type": "code",
      "source": [
        "print(\"1. Red\")\n",
        "print(\"2. Orange\")\n",
        "print(\"3. Yellow\")\n",
        "print(\"4. Green\")\n",
        "print(\"5. Blue\")\n",
        "print(\"6. Purple\")\n",
        "Choice = int(input(\"Select your favorite color: \"))\n",
        "if (Choice == 1):\n",
        "   print(\"You chose Red!\")\n",
        "elif (Choice == 2):\n",
        "   print(\"You chose Orange!\")\n",
        "elif (Choice == 3):\n",
        "   print(\"You chose Yellow!\")\n",
        "elif (Choice == 4):\n",
        "   print(\"You chose Green!\")\n",
        "elif (Choice == 5):\n",
        "   print(\"You chose Blue!\")\n",
        "elif (Choice == 6):\n",
        "   print(\"You chose Purple!\")\n",
        "else:\n",
        "   print(\"You made an invalid choice!\")"
      ],
      "metadata": {
        "colab": {
          "base_uri": "https://localhost:8080/"
        },
        "id": "05UdjL5-_XgO",
        "outputId": "5e62b87a-5ba3-4e87-f83d-626a2702e307"
      },
      "execution_count": null,
      "outputs": [
        {
          "output_type": "stream",
          "name": "stdout",
          "text": [
            "1. Red\n",
            "2. Orange\n",
            "3. Yellow\n",
            "4. Green\n",
            "5. Blue\n",
            "6. Purple\n",
            "Select your favorite color: 8\n",
            "You made an invalid choice!\n"
          ]
        }
      ]
    },
    {
      "cell_type": "code",
      "source": [
        "One = int(input(\"Type a number between 1 and 10: \"))\n",
        "Two = int(input(\"Type a number between 1 and 10: \"))\n",
        "if (One >= 1) and (One <= 10):\n",
        "   if (Two >= 1) and (Two <= 10):\n",
        "      print(\"Your secret number is: \", One * Two)\n",
        "   else:\n",
        "      print(\"Incorrect second value!\")\n",
        "else:\n",
        "   print(\"Incorrect first value!\")"
      ],
      "metadata": {
        "colab": {
          "base_uri": "https://localhost:8080/"
        },
        "id": "T0Xe45lJ_gY-",
        "outputId": "ba3a0561-8f11-4222-990d-b0a36029a989"
      },
      "execution_count": null,
      "outputs": [
        {
          "output_type": "stream",
          "name": "stdout",
          "text": [
            "Type a number between 1 and 10: 5\n",
            "Type a number between 1 and 10: 2\n",
            "Your secret number is:  10\n"
          ]
        }
      ]
    },
    {
      "cell_type": "code",
      "source": [
        "One = int(input(\"Type a number between 1 and 10: \"))\n",
        "Two = int(input(\"Type a number between 1 and 10: \"))\n",
        "if (One >= 1) and (One <= 10):\n",
        "   if (Two >= 1) and (Two <= 10):\n",
        "      print(\"Your secret number is: \", One * Two)\n",
        "   else:\n",
        "      print(\"Incorrect second value!\")\n",
        "else:\n",
        "   print(\"Incorrect first value!\")\n"
      ],
      "metadata": {
        "colab": {
          "base_uri": "https://localhost:8080/"
        },
        "id": "ODtQqIu9_qGm",
        "outputId": "c740a5fb-8169-4c07-b1ba-efeb27355182"
      },
      "execution_count": null,
      "outputs": [
        {
          "output_type": "stream",
          "name": "stdout",
          "text": [
            "Type a number between 1 and 10: 10\n",
            "Type a number between 1 and 10: 9\n",
            "Your secret number is:  90\n"
          ]
        }
      ]
    },
    {
      "cell_type": "code",
      "source": [
        "print(\"1. Eggs\")\n",
        "print(\"2. Pancakes\")\n",
        "print(\"3. Waffles\")\n",
        "print(\"4. Oatmeal\")\n",
        "MainChoice = int(input(\"Choose a breakfast item: \"))\n",
        "if (MainChoice == 2):\n",
        "   Meal = \"Pancakes\"\n",
        "elif (MainChoice == 3):\n",
        "   Meal = \"Waffles\"\n",
        "if (MainChoice == 1):\n",
        "   print(\"1. Wheat Toast\")\n",
        "   print(\"2. Sour Dough\")\n",
        "   print(\"3. Rye Toast\")\n",
        "   print(\"4. Pancakes\")\n",
        "   Bread = int(input(\"Choose a type of bread: \"))\n",
        "   if (Bread == 1):\n",
        "      print(\"You chose eggs with wheat toast.\")\n",
        "   elif (Bread == 2):\n",
        "      print(\"You chose eggs with sour dough.\")\n",
        "   elif (Bread == 3):\n",
        "      print(\"You chose eggs with rye toast.\")\n",
        "   elif (Bread == 4):\n",
        "      print(\"You chose eggs with pancakes.\")\n",
        "   else:\n",
        "      print(\"We have eggs, but not that kind of bread.\")\n",
        "elif (MainChoice == 2) or (MainChoice == 3):\n",
        "   print(\"1. Syrup\")\n",
        "   print(\"2. Strawberries\")\n",
        "   print(\"3. Powdered Sugar\")\n",
        "   Topping = int(input(\"Choose a topping: \"))\n",
        "   if (Topping == 1):\n",
        "      print (\"You chose \" + Meal + \" with syrup.\")\n",
        "   elif (Topping == 2):\n",
        "      print (\"You chose \" + Meal + \" with strawberries.\")\n",
        "   elif (Topping == 3):\n",
        "      print (\"You chose \" + Meal + \" with powdered sugar.\")\n",
        "   else:\n",
        "      print (\"We have \" + Meal + \", but not that topping.\")\n",
        "elif (MainChoice == 4):\n",
        "   print(\"You chose oatmeal.\")\n",
        "else:\n",
        "   print(\"We don't serve that breakfast item!\")"
      ],
      "metadata": {
        "colab": {
          "base_uri": "https://localhost:8080/"
        },
        "id": "kIpCKURP_yHG",
        "outputId": "8f2482b0-84ba-43b3-91d0-6f9898f7db2a"
      },
      "execution_count": null,
      "outputs": [
        {
          "output_type": "stream",
          "name": "stdout",
          "text": [
            "1. Eggs\n",
            "2. Pancakes\n",
            "3. Waffles\n",
            "4. Oatmeal\n",
            "Choose a breakfast item: 2\n",
            "1. Syrup\n",
            "2. Strawberries\n",
            "3. Powdered Sugar\n",
            "Choose a topping: 1\n",
            "You chose Pancakes with syrup.\n"
          ]
        }
      ]
    },
    {
      "cell_type": "code",
      "source": [
        "a = 10\n",
        "b = 20\n",
        "\n",
        "if a > 5:\n",
        "   if b < 15:\n",
        "      result = \"X\"\n",
        "   else:\n",
        "      result = \"Y\"\n",
        "else:\n",
        "    result = \"Z\"\n",
        "\n",
        "print(result)"
      ],
      "metadata": {
        "colab": {
          "base_uri": "https://localhost:8080/"
        },
        "id": "4LsvM9sx_5q2",
        "outputId": "754f8bb6-5d6e-45a2-ea70-676ac0155148"
      },
      "execution_count": null,
      "outputs": [
        {
          "output_type": "stream",
          "name": "stdout",
          "text": [
            "Y\n"
          ]
        }
      ]
    },
    {
      "cell_type": "code",
      "source": [
        "value = 15\n",
        "if value < 10:\n",
        "    print(\"A\")\n",
        "elif value < 20:\n",
        "    print(\"B\")\n",
        "else:\n",
        "    print(\"C\")"
      ],
      "metadata": {
        "id": "Xhlt0Bk8AhV-",
        "outputId": "91aa7faa-eae7-4235-e011-962f5accbe4c",
        "colab": {
          "base_uri": "https://localhost:8080/"
        }
      },
      "execution_count": null,
      "outputs": [
        {
          "output_type": "stream",
          "name": "stdout",
          "text": [
            "B\n"
          ]
        }
      ]
    },
    {
      "cell_type": "code",
      "source": [],
      "metadata": {
        "id": "ibLdR1P0AkR-"
      },
      "execution_count": null,
      "outputs": []
    }
  ]
}