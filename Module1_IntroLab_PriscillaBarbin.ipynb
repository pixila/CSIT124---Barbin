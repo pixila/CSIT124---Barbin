{
  "nbformat": 4,
  "nbformat_minor": 0,
  "metadata": {
    "colab": {
      "provenance": [],
      "authorship_tag": "ABX9TyN4YpvHDsVpoRot4Pn8RjxX",
      "include_colab_link": true
    },
    "kernelspec": {
      "name": "python3",
      "display_name": "Python 3"
    },
    "language_info": {
      "name": "python"
    }
  },
  "cells": [
    {
      "cell_type": "markdown",
      "metadata": {
        "id": "view-in-github",
        "colab_type": "text"
      },
      "source": [
        "<a href=\"https://colab.research.google.com/github/pixila/CSIT124---Barbin/blob/main/Module1_IntroLab_PriscillaBarbin.ipynb\" target=\"_parent\"><img src=\"https://colab.research.google.com/assets/colab-badge.svg\" alt=\"Open In Colab\"/></a>"
      ]
    },
    {
      "cell_type": "code",
      "execution_count": null,
      "metadata": {
        "colab": {
          "base_uri": "https://localhost:8080/"
        },
        "id": "5hdujySq0C2B",
        "outputId": "eaa49b9c-0d4b-48fa-f0cf-52ce2ef2f8c1"
      },
      "outputs": [
        {
          "output_type": "stream",
          "name": "stdout",
          "text": [
            "Welcome to CSIT 124!\n",
            "This is your first Python program.\n"
          ]
        }
      ],
      "source": [
        "print(\"Welcome to CSIT 124!\")\n",
        "print(\"This is your first Python program.\")"
      ]
    },
    {
      "cell_type": "code",
      "source": [
        "name = input(\"What is your name? \")\n",
        "age = input(\"How old are you? \")\n",
        "print(\"Hello, \" + name + \"! You are \" + age + \" years old.\")"
      ],
      "metadata": {
        "colab": {
          "base_uri": "https://localhost:8080/"
        },
        "id": "EMCB-0M00YL5",
        "outputId": "3160b2b7-1261-4c97-8b86-f7e4cb655026"
      },
      "execution_count": null,
      "outputs": [
        {
          "output_type": "stream",
          "name": "stdout",
          "text": [
            "What is your name? Priscilla\n",
            "How old are you? 42\n",
            "Hello, Priscilla! You are 42 years old.\n"
          ]
        }
      ]
    },
    {
      "cell_type": "code",
      "source": [
        "hours = float(input(\"How many hours did you work this week? \"))\n",
        "rate = float(input(\"What is your hourly rate? \"))\n",
        "pay = hours * rate\n",
        "print(\"You earned $\" + str(pay) + \" this week.\")"
      ],
      "metadata": {
        "colab": {
          "base_uri": "https://localhost:8080/"
        },
        "id": "h3G7TrRg0sC5",
        "outputId": "4047ab5b-21e0-4827-c241-7eb02fbf9017"
      },
      "execution_count": null,
      "outputs": [
        {
          "output_type": "stream",
          "name": "stdout",
          "text": [
            "How many hours did you work this week? 38.5\n",
            "What is your hourly rate? 30\n",
            "You earned $1155.0 this week.\n"
          ]
        }
      ]
    }
  ]
}