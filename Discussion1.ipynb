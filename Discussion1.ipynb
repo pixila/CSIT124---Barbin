{
  "nbformat": 4,
  "nbformat_minor": 0,
  "metadata": {
    "colab": {
      "provenance": [],
      "authorship_tag": "ABX9TyOeRK77FsRyK+aFU+dn9oD9",
      "include_colab_link": true
    },
    "kernelspec": {
      "name": "python3",
      "display_name": "Python 3"
    },
    "language_info": {
      "name": "python"
    }
  },
  "cells": [
    {
      "cell_type": "markdown",
      "metadata": {
        "id": "view-in-github",
        "colab_type": "text"
      },
      "source": [
        "<a href=\"https://colab.research.google.com/github/pixila/CSIT124---Barbin/blob/main/Discussion1.ipynb\" target=\"_parent\"><img src=\"https://colab.research.google.com/assets/colab-badge.svg\" alt=\"Open In Colab\"/></a>"
      ]
    },
    {
      "cell_type": "code",
      "execution_count": 1,
      "metadata": {
        "colab": {
          "base_uri": "https://localhost:8080/"
        },
        "id": "-WJH_trPVOB8",
        "outputId": "e63923d8-4235-4045-f000-07c0a0cfe240"
      },
      "outputs": [
        {
          "output_type": "stream",
          "name": "stdout",
          "text": [
            "Walk into the bookstore.\n",
            "Go to the Romance section.\n",
            "Pick up A Court of Thorns and Roses from the shelf.\n",
            "Take the book to the cashier and pay.\n",
            "Leave the store with your new book!\n"
          ]
        }
      ],
      "source": [
        "section = \"Romance\"\n",
        "book = \"A Court of Thorns and Roses\"\n",
        "\n",
        "print(\"Walk into the bookstore.\")\n",
        "print(\"Go to the\", section, \"section.\")\n",
        "print(\"Pick up\", book, \"from the shelf.\")\n",
        "print(\"Take the book to the cashier and pay.\")\n",
        "print(\"Leave the store with your new book!\")"
      ]
    },
    {
      "cell_type": "code",
      "source": [
        "Website = \"ocean connect\"\n",
        "num_2fa = \"123456\"\n",
        "\n",
        "Website_input = input(\"Input website name: \")\n",
        "\n",
        "while(Website != Website_input.lower()):\n",
        "  Website_input = input(\"Input CORRECT website name: \")\n",
        "\n",
        "num_2fa_input = input(\"Input 2FA code: \")\n",
        "\n",
        "while(num_2fa != num_2fa_input):\n",
        "  num_2fa_input = input(\"Incorrect 2FA try again: \")\n",
        "print()\n",
        "\n",
        "print(\"Ocean Connect: \\n 1- My Courses \\n 2- Occ Email\\n 3- Student Planning \\n 4- Student Services \\n 5- etc....\")\n",
        "option_select_input = input(\"Select an option: \")\n",
        "\n",
        "while(option_select_input != \"1\"):\n",
        "  option_select_input = input(\"Select an option: \")\n",
        "\n",
        "print()\n",
        "print(\"Dashboard....\")"
      ],
      "metadata": {
        "colab": {
          "base_uri": "https://localhost:8080/"
        },
        "id": "lJ7JYhxFVRC1",
        "outputId": "19303c76-b478-4f87-a39f-3fcd75b04149"
      },
      "execution_count": 2,
      "outputs": [
        {
          "output_type": "stream",
          "name": "stdout",
          "text": [
            "Input website name: Ocean Connect\n",
            "Input 2FA code: 233322\n",
            "Incorrect 2FA try again: 123456\n",
            "\n",
            "Ocean Connect: \n",
            " 1- My Courses \n",
            " 2- Occ Email\n",
            " 3- Student Planning \n",
            " 4- Student Services \n",
            " 5- etc....\n",
            "Select an option: My courses\n",
            "Select an option: 1\n",
            "\n",
            "Dashboard....\n"
          ]
        }
      ]
    },
    {
      "cell_type": "code",
      "source": [
        "#Calculated total\n",
        "\n",
        "item_price = 19.99\n",
        "\n",
        "quantity = 4\n",
        "\n",
        "tax_rate = 0.06625\n",
        "\n",
        "subtotal = item_price * quantity\n",
        "\n",
        "tax_amount = subtotal * tax_rate\n",
        "\n",
        "total_cost = subtotal + tax_amount\n",
        "\n",
        "print(f\"Your total cost is: ${total_cost:.2f}\")"
      ],
      "metadata": {
        "colab": {
          "base_uri": "https://localhost:8080/"
        },
        "id": "sKFeXTvlVZDs",
        "outputId": "bdb6f902-163b-41bb-b988-16726e65d304"
      },
      "execution_count": 3,
      "outputs": [
        {
          "output_type": "stream",
          "name": "stdout",
          "text": [
            "Your total cost is: $85.26\n"
          ]
        }
      ]
    },
    {
      "cell_type": "code",
      "source": [
        "left_shoe_on = True\n",
        "right_shoe_on = True\n",
        "\n",
        "if left_shoe_on and right_shoe_on:\n",
        " print(\"Both shoes are on. Ready to go!\")\n",
        "else:\n",
        " print(\"Put your shoes on before leaving.\")"
      ],
      "metadata": {
        "colab": {
          "base_uri": "https://localhost:8080/"
        },
        "id": "gT974eflV24d",
        "outputId": "7b6f9119-5bf8-4a78-e796-4e9540ce3f6c"
      },
      "execution_count": 5,
      "outputs": [
        {
          "output_type": "stream",
          "name": "stdout",
          "text": [
            "Both shoes are on. Ready to go!\n"
          ]
        }
      ]
    },
    {
      "cell_type": "code",
      "source": [
        " bread1 = \" half baguette\"\n",
        " bread2 = \"half baguette\"\n",
        " sandwich = bread1 + \" with mayo and mustard\" + bread2+\" with veggies and ham\"\n",
        "print(\"Your sandwich is ready to eat\")\n",
        "print(\" Putting the sandwich together\")\n",
        "print(\"Enjoy your sandwich\")"
      ],
      "metadata": {
        "colab": {
          "base_uri": "https://localhost:8080/"
        },
        "id": "EJF5gUeUV6Qk",
        "outputId": "55300bf8-7be3-4696-bca2-af0a4ab5d019"
      },
      "execution_count": 6,
      "outputs": [
        {
          "output_type": "stream",
          "name": "stdout",
          "text": [
            "Your sandwich is ready to eat\n",
            " Putting the sandwich together\n",
            "Enjoy your sandwich\n"
          ]
        }
      ]
    },
    {
      "cell_type": "code",
      "source": [
        "def make_sandwich():\n",
        "\n",
        "    print(\"Get two slices of bread\")\n",
        "\n",
        "    print(\"Put peanut butter on one slice\")\n",
        "\n",
        "    print(\"Put jelly on the other slice\")\n",
        "\n",
        "    print(\"Put the two slices together\")\n",
        "\n",
        "    print(\"Cut the sandwich into fours\")\n",
        "\n",
        "    print(\"Place on dish\")\n",
        "\n",
        "make_sandwich()"
      ],
      "metadata": {
        "colab": {
          "base_uri": "https://localhost:8080/"
        },
        "id": "7pTM0cHAWBBs",
        "outputId": "2ce7efbf-38b8-4a29-bfda-b33d6c5547d5"
      },
      "execution_count": 8,
      "outputs": [
        {
          "output_type": "stream",
          "name": "stdout",
          "text": [
            "Get two slices of bread\n",
            "Put peanut butter on one slice\n",
            "Put jelly on the other slice\n",
            "Put the two slices together\n",
            "Cut the sandwich into fours\n",
            "Place on dish\n"
          ]
        }
      ]
    },
    {
      "cell_type": "code",
      "source": [
        "def make_sandwich():\n",
        "\n",
        "    print(\"Get two slices of bread\")\n",
        "\n",
        "    print(\"Put peanut butter on one slice\")\n",
        "\n",
        "    print(\"Put jelly on the other slice\")\n",
        "\n",
        "    print(\"Put the two slices together\")\n",
        "\n",
        "    print(\"Cut the sandwich into fours\")\n",
        "\n",
        "    print(\"Place on dish\")\n",
        "\n",
        "make_sandwich()"
      ],
      "metadata": {
        "colab": {
          "base_uri": "https://localhost:8080/"
        },
        "id": "RHMHzoTcWFqV",
        "outputId": "bbec2810-bb7b-4f5f-8bf3-b03c8ca4bf78"
      },
      "execution_count": 10,
      "outputs": [
        {
          "output_type": "stream",
          "name": "stdout",
          "text": [
            "Get two slices of bread\n",
            "Put peanut butter on one slice\n",
            "Put jelly on the other slice\n",
            "Put the two slices together\n",
            "Cut the sandwich into fours\n",
            "Place on dish\n"
          ]
        }
      ]
    },
    {
      "cell_type": "code",
      "source": [
        "print (\"You walk into the bathroom and pick up your toothbrush.\")\n",
        "print (\"You turn on the water and wet your toothbrush under the stream.\")\n",
        "print (\"You remove your toothbrush from the water and remove the cap from the toothpaste, before applying it to your toothbrush.\")\n",
        "print (\"You put the cap back on the toothpaste, before taking the toothbrush, now with toothpaste on it, and putting it in your mouth, brushing up and down on your teeth for two minutes.\")\n",
        "print (\"You remove the toothbrush from your mouth and spit the excess toothpaste into the sink, before returning the toothbrush to where you got it.\")\n",
        "print (\"You turn the water off and grab a towel to wipe your mouth off on.\")\n",
        "print (\"You replace the towel from where you got it, before leaving the bathroom, ready to take on the rest of the day!\")"
      ],
      "metadata": {
        "colab": {
          "base_uri": "https://localhost:8080/"
        },
        "id": "yG610LlAWTbF",
        "outputId": "57a33b37-779a-4b29-9abf-c5da8cb1d012"
      },
      "execution_count": 11,
      "outputs": [
        {
          "output_type": "stream",
          "name": "stdout",
          "text": [
            "You walk into the bathroom and pick up your toothbrush.\n",
            "You turn on the water and wet your toothbrush under the stream.\n",
            "You remove your toothbrush from the water and remove the cap from the toothpaste, before applying it to your toothbrush.\n",
            "You put the cap back on the toothpaste, before taking the toothbrush, now with toothpaste on it, and putting it in your mouth, brushing up and down on your teeth for two minutes.\n",
            "You remove the toothbrush from your mouth and spit the excess toothpaste into the sink, before returning the toothbrush to where you got it.\n",
            "You turn the water off and grab a towel to wipe your mouth off on.\n",
            "You replace the towel from where you got it, before leaving the bathroom, ready to take on the rest of the day!\n"
          ]
        }
      ]
    },
    {
      "cell_type": "code",
      "source": [
        "def get_ready_for_work():\n",
        "\n",
        "    print(\"Waking up...\")\n",
        "\n",
        "    print (\"Get in shower...\")\n",
        "\n",
        "    print (\"Put on work clothes...\")\n",
        "\n",
        "    print(\"Grab something to eat for breakfast...\")\n",
        "\n",
        "    print(\"Pack a lunch bag...\")\n",
        "\n",
        "    print(\"Leave the house...\")\n",
        "\n",
        "    print(\"Drive to work...\")\n",
        "\n",
        "get_ready_for_work()"
      ],
      "metadata": {
        "colab": {
          "base_uri": "https://localhost:8080/"
        },
        "id": "d-w-mCZnWl6c",
        "outputId": "c4d03b75-5f14-4433-dcd7-9efcafc91d38"
      },
      "execution_count": 12,
      "outputs": [
        {
          "output_type": "stream",
          "name": "stdout",
          "text": [
            "Waking up...\n",
            "Get in shower...\n",
            "Put on work clothes...\n",
            "Grab something to eat for breakfast...\n",
            "Pack a lunch bag...\n",
            "Leave the house...\n",
            "Drive to work...\n"
          ]
        }
      ]
    },
    {
      "cell_type": "code",
      "source": [
        "pin = 1234;\n",
        "inPin = int(input(\"Enter PIN: \"))\n",
        "if inPin==1234:\n",
        "  print(\"Access verified!\")\n",
        "else:\n",
        "  print(\"Access denied.\")"
      ],
      "metadata": {
        "colab": {
          "base_uri": "https://localhost:8080/"
        },
        "id": "TED8BRC9Wo1E",
        "outputId": "a52f7828-767e-4051-d012-679ac6cbefc8"
      },
      "execution_count": 14,
      "outputs": [
        {
          "output_type": "stream",
          "name": "stdout",
          "text": [
            "Enter PIN: 235\n",
            "Access denied.\n"
          ]
        }
      ]
    },
    {
      "cell_type": "code",
      "source": [
        "steps = ( \" Park in driveway\", \"Remove spare tire and lug wrench from trunk\", \"Loosen lug nuts\", \"Place jack under car and lift car\", \"Remove lug nuts and flat tire\", \"Install spare tire and hand tighten lug nuts\", \"Lower car and remove jack\", \"Fully torque lug nuts\" )\n",
        "\n",
        "for step in steps:\n",
        "    print (\"step:\", step)"
      ],
      "metadata": {
        "colab": {
          "base_uri": "https://localhost:8080/"
        },
        "id": "ZpS-Je-6WurE",
        "outputId": "41564131-33f3-4b72-8074-7ce4777a3c69"
      },
      "execution_count": 16,
      "outputs": [
        {
          "output_type": "stream",
          "name": "stdout",
          "text": [
            "step:  Park in driveway\n",
            "step: Remove spare tire and lug wrench from trunk\n",
            "step: Loosen lug nuts\n",
            "step: Place jack under car and lift car\n",
            "step: Remove lug nuts and flat tire\n",
            "step: Install spare tire and hand tighten lug nuts\n",
            "step: Lower car and remove jack\n",
            "step: Fully torque lug nuts\n"
          ]
        }
      ]
    },
    {
      "cell_type": "code",
      "source": [],
      "metadata": {
        "id": "VspYE0MKW1OE"
      },
      "execution_count": null,
      "outputs": []
    }
  ]
}