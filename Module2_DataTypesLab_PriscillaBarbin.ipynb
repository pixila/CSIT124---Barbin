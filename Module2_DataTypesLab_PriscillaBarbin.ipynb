{
  "nbformat": 4,
  "nbformat_minor": 0,
  "metadata": {
    "colab": {
      "provenance": [],
      "authorship_tag": "ABX9TyP8qsQCISSi2n4QRzdrXb4N",
      "include_colab_link": true
    },
    "kernelspec": {
      "name": "python3",
      "display_name": "Python 3"
    },
    "language_info": {
      "name": "python"
    }
  },
  "cells": [
    {
      "cell_type": "markdown",
      "metadata": {
        "id": "view-in-github",
        "colab_type": "text"
      },
      "source": [
        "<a href=\"https://colab.research.google.com/github/pixila/CSIT124---Barbin/blob/main/Module2_DataTypesLab_PriscillaBarbin.ipynb\" target=\"_parent\"><img src=\"https://colab.research.google.com/assets/colab-badge.svg\" alt=\"Open In Colab\"/></a>"
      ]
    },
    {
      "cell_type": "code",
      "execution_count": 4,
      "metadata": {
        "colab": {
          "base_uri": "https://localhost:8080/"
        },
        "id": "at7KWrX_ixrW",
        "outputId": "06206124-6148-4d54-aa42-8c344b65fc80"
      },
      "outputs": [
        {
          "output_type": "stream",
          "name": "stdout",
          "text": [
            "<class 'str'>\n",
            "<class 'int'>\n",
            "<class 'float'>\n",
            "<class 'bool'>\n"
          ]
        }
      ],
      "source": [
        "name = \"Jordan\"\n",
        "age = 21\n",
        "height = 5.9\n",
        "is_student = True\n",
        "\n",
        "print(type(name))\n",
        "print(type(age))\n",
        "print(type(height))\n",
        "print(type(is_student))"
      ]
    },
    {
      "cell_type": "code",
      "source": [
        "num1 = int(input(\"Enter an integer: \"))\n",
        "num2 = float(input(\"Enter a decimal number: \"))\n",
        "\n",
        "sum_result = num1 + num2\n",
        "print(\"Sum:\", sum_result)\n",
        "print(\"Data type of result:\", type(sum_result))"
      ],
      "metadata": {
        "colab": {
          "base_uri": "https://localhost:8080/"
        },
        "id": "piKU06s0i92_",
        "outputId": "a97147fb-1dc5-40e3-a59a-ffe905409a79"
      },
      "execution_count": 6,
      "outputs": [
        {
          "output_type": "stream",
          "name": "stdout",
          "text": [
            "Enter an integer: 23\n",
            "Enter a decimal number: 863.27\n",
            "Sum: 886.27\n",
            "Data type of result: <class 'float'>\n"
          ]
        }
      ]
    },
    {
      "cell_type": "code",
      "source": [
        "a = 10\n",
        "b = 7\n",
        "\n",
        "print(\"Is a > b?\", a > b)\n",
        "print(\"Is a == 10 and b < 5?\", a == 10 and b < 5)\n",
        "print(\"Not a < b:\", not a < b)"
      ],
      "metadata": {
        "colab": {
          "base_uri": "https://localhost:8080/"
        },
        "id": "-1Tmb243jOcO",
        "outputId": "f1ef8b9b-ad85-4241-e7ec-64e601c4ec2a"
      },
      "execution_count": 7,
      "outputs": [
        {
          "output_type": "stream",
          "name": "stdout",
          "text": [
            "Is a > b? True\n",
            "Is a == 10 and b < 5? False\n",
            "Not a < b: True\n"
          ]
        }
      ]
    }
  ]
}