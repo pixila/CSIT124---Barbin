{
  "nbformat": 4,
  "nbformat_minor": 0,
  "metadata": {
    "colab": {
      "provenance": [],
      "authorship_tag": "ABX9TyNWZ7lVilknUACS6jaOh6HX",
      "include_colab_link": true
    },
    "kernelspec": {
      "name": "python3",
      "display_name": "Python 3"
    },
    "language_info": {
      "name": "python"
    }
  },
  "cells": [
    {
      "cell_type": "markdown",
      "metadata": {
        "id": "view-in-github",
        "colab_type": "text"
      },
      "source": [
        "<a href=\"https://colab.research.google.com/github/pixila/CSIT124---Barbin/blob/main/Module2.ipynb\" target=\"_parent\"><img src=\"https://colab.research.google.com/assets/colab-badge.svg\" alt=\"Open In Colab\"/></a>"
      ]
    },
    {
      "cell_type": "code",
      "execution_count": null,
      "metadata": {
        "colab": {
          "base_uri": "https://localhost:8080/"
        },
        "id": "jDoW8dS69zre",
        "outputId": "8c75154b-06c2-4358-a70f-289e58fa5027"
      },
      "outputs": [
        {
          "output_type": "stream",
          "name": "stdout",
          "text": [
            "<class 'int'>\n"
          ]
        }
      ],
      "source": [
        "x = 5\n",
        "print(type(x)) #class 'int'"
      ]
    },
    {
      "cell_type": "code",
      "source": [
        "name = \"Alice\"\n",
        "age = 25\n",
        "pi = 3.14159\n",
        "\n",
        "print(\"My name is\", name, \"and I am\", age, \"years old.\")\n",
        "print(\"The value of pi is approximately\", pi)"
      ],
      "metadata": {
        "colab": {
          "base_uri": "https://localhost:8080/"
        },
        "id": "e-hSqd1b93_Q",
        "outputId": "5f5c3859-52c1-45f7-c352-dd3ecd48f61d"
      },
      "execution_count": null,
      "outputs": [
        {
          "output_type": "stream",
          "name": "stdout",
          "text": [
            "My name is Alice and I am 25 years old.\n",
            "The value of pi is approximately 3.14159\n"
          ]
        }
      ]
    },
    {
      "cell_type": "code",
      "source": [
        "x = 5\n",
        "y = 2\n",
        "print(x + y)\n",
        "print(x ** y)\n",
        "print(x > y)\n",
        "print(not x > y)"
      ],
      "metadata": {
        "colab": {
          "base_uri": "https://localhost:8080/"
        },
        "id": "Sm3EwYHl-X_v",
        "outputId": "08b053b9-4375-4536-cca0-2e8bff69081f"
      },
      "execution_count": null,
      "outputs": [
        {
          "output_type": "stream",
          "name": "stdout",
          "text": [
            "7\n",
            "25\n",
            "True\n",
            "False\n"
          ]
        }
      ]
    },
    {
      "cell_type": "code",
      "source": [
        "num1 = input(\"Enter a number:\")\n",
        "num1 = int(num1)\n",
        "print(num1 + 5)"
      ],
      "metadata": {
        "colab": {
          "base_uri": "https://localhost:8080/"
        },
        "id": "Q4qsR2VK-jn3",
        "outputId": "f236d5fa-de16-47b0-a66f-746719d0715e"
      },
      "execution_count": null,
      "outputs": [
        {
          "output_type": "stream",
          "name": "stdout",
          "text": [
            "Enter a number:6\n",
            "11\n"
          ]
        }
      ]
    },
    {
      "cell_type": "code",
      "source": [
        "x = \"Hello World!\"\n",
        "print(x)\n"
      ],
      "metadata": {
        "colab": {
          "base_uri": "https://localhost:8080/"
        },
        "id": "DnaGc0f5AnBz",
        "outputId": "17d4ebf7-a1fe-46be-e087-2e80019fa76c"
      },
      "execution_count": null,
      "outputs": [
        {
          "output_type": "stream",
          "name": "stdout",
          "text": [
            "Hello World!\n"
          ]
        }
      ]
    },
    {
      "cell_type": "code",
      "source": [
        "students_count = 1000 #variables names always descripitive\n",
        "teachers_count = 50 #all letters lower case aside from the ones in the quotes\n",
        "rating = 4.99 #in python, no spaces in variable names\n",
        "is_published = False #always spaces after variables, between the =\n",
        "course_name = \"Python Programming\"\n"
      ],
      "metadata": {
        "id": "APsOryQiCf5d"
      },
      "execution_count": null,
      "outputs": []
    },
    {
      "cell_type": "code",
      "source": [
        "#Operators in Python\n",
        "#Operator + (addition)\n",
        "a = 42\n",
        "b = 58\n",
        "print(a + b) #concatenations"
      ],
      "metadata": {
        "colab": {
          "base_uri": "https://localhost:8080/"
        },
        "id": "iBcjWqQ2DVCX",
        "outputId": "803a8c75-288d-4d5d-a13b-4fcadc1d6021"
      },
      "execution_count": null,
      "outputs": [
        {
          "output_type": "stream",
          "name": "stdout",
          "text": [
            "100\n"
          ]
        }
      ]
    },
    {
      "cell_type": "code",
      "source": [
        "#Operators in Python\n",
        "#Operator + (addition)\n",
        "\n",
        "a = \"Promo\"\n",
        "b = \"Ambitions\"\n",
        "print(a + ' ' + b) #the ' ' between a and b will add the space between the\n",
        "                   #variables when using str"
      ],
      "metadata": {
        "colab": {
          "base_uri": "https://localhost:8080/"
        },
        "id": "HzHrw24PEk-P",
        "outputId": "93f9dfe5-7386-4fb0-f3f4-3c7c1000e8d0"
      },
      "execution_count": null,
      "outputs": [
        {
          "output_type": "stream",
          "name": "stdout",
          "text": [
            "Promo Ambitions\n"
          ]
        }
      ]
    },
    {
      "cell_type": "code",
      "source": [
        "#Operators in Python\n",
        "#Operator + (addition)\n",
        "\n",
        "a = \"Promo\"\n",
        "b = \"Ambitions\"\n",
        "print('Promo' 'Ambitions') #"
      ],
      "metadata": {
        "colab": {
          "base_uri": "https://localhost:8080/"
        },
        "id": "267n3acREx4P",
        "outputId": "a532b76e-a03f-4ecf-ab4e-3818b0ba93a2"
      },
      "execution_count": null,
      "outputs": [
        {
          "output_type": "stream",
          "name": "stdout",
          "text": [
            "PromoAmbitions\n"
          ]
        }
      ]
    },
    {
      "cell_type": "code",
      "source": [
        "#Operators in Python\n",
        "#Operator - (subtraction)\n",
        "a = 100\n",
        "b = 65\n",
        "print(a - b)"
      ],
      "metadata": {
        "colab": {
          "base_uri": "https://localhost:8080/"
        },
        "id": "ROG2PkTwFsDY",
        "outputId": "0fe9839b-6195-4e16-bb6b-6233675793e0"
      },
      "execution_count": null,
      "outputs": [
        {
          "output_type": "stream",
          "name": "stdout",
          "text": [
            "35\n"
          ]
        }
      ]
    },
    {
      "cell_type": "code",
      "source": [
        "#Operators in Python\n",
        "#Operator - (subtraction)\n",
        "a = 65\n",
        "b = 100\n",
        "print(a - b)"
      ],
      "metadata": {
        "colab": {
          "base_uri": "https://localhost:8080/"
        },
        "id": "CE_78XLwF6l_",
        "outputId": "c3087372-2617-4a62-db8c-daa11be34e3a"
      },
      "execution_count": null,
      "outputs": [
        {
          "output_type": "stream",
          "name": "stdout",
          "text": [
            "-35\n"
          ]
        }
      ]
    },
    {
      "cell_type": "code",
      "source": [
        "#Operators in Python\n",
        "#Operator * (multiplication)\n",
        "a = 6\n",
        "b = 8\n",
        "print(a * b)"
      ],
      "metadata": {
        "colab": {
          "base_uri": "https://localhost:8080/"
        },
        "id": "KpeffE9sGBX4",
        "outputId": "f893e652-b88e-4a9d-a2bc-3da406cc648d"
      },
      "execution_count": null,
      "outputs": [
        {
          "output_type": "stream",
          "name": "stdout",
          "text": [
            "48\n"
          ]
        }
      ]
    },
    {
      "cell_type": "code",
      "source": [
        "#Operators in Python\n",
        "#Operator * (multiplication)\n",
        "a = 3\n",
        "b = 4\n",
        "print(a ** b) #exponentials"
      ],
      "metadata": {
        "colab": {
          "base_uri": "https://localhost:8080/"
        },
        "id": "LMwY_vKgGVFf",
        "outputId": "c8e8231b-d0d7-4c2f-c941-119c8718d6dc"
      },
      "execution_count": null,
      "outputs": [
        {
          "output_type": "stream",
          "name": "stdout",
          "text": [
            "81\n"
          ]
        }
      ]
    },
    {
      "cell_type": "code",
      "source": [
        "#Operators in Python\n",
        "#Operator / (division)\n",
        "a = 3\n",
        "b = 4\n",
        "print(a / b) #when dividing the result will always be a float"
      ],
      "metadata": {
        "colab": {
          "base_uri": "https://localhost:8080/"
        },
        "id": "i8K-YrfkGken",
        "outputId": "fcf8a096-af98-4c05-d4b1-d94b51923f2c"
      },
      "execution_count": null,
      "outputs": [
        {
          "output_type": "stream",
          "name": "stdout",
          "text": [
            "0.75\n"
          ]
        }
      ]
    },
    {
      "cell_type": "code",
      "source": [
        "#Operators in Python\n",
        "#Operator % (modulus)\n",
        "#returns the remained when the 1st operator is divided by the 2nd\n",
        "a = 17\n",
        "b = 5\n",
        "print(a % b) #gives the remainder of the division"
      ],
      "metadata": {
        "colab": {
          "base_uri": "https://localhost:8080/"
        },
        "id": "hqh7OSu6G0IP",
        "outputId": "5286e163-ce02-431a-bb36-ce740e8ab969"
      },
      "execution_count": null,
      "outputs": [
        {
          "output_type": "stream",
          "name": "stdout",
          "text": [
            "2\n"
          ]
        }
      ]
    },
    {
      "cell_type": "code",
      "source": [
        "#Operators in Python\n",
        "#Operator % (modulus)\n",
        "day = 16 #day of the month\n",
        "#check if the day is even\n",
        "if day % 2 == 0:\n",
        "    print(\"Today is an even day of the month\")\n",
        "else:\n",
        "    print(\"It's an odd day of the month today\")\n"
      ],
      "metadata": {
        "colab": {
          "base_uri": "https://localhost:8080/"
        },
        "id": "MG-4yhC5HLJf",
        "outputId": "398ad440-fd58-4340-80ff-35fa218b121e"
      },
      "execution_count": null,
      "outputs": [
        {
          "output_type": "stream",
          "name": "stdout",
          "text": [
            "Today is an even day of the month\n"
          ]
        }
      ]
    },
    {
      "cell_type": "code",
      "source": [
        "#Operators in Python\n",
        "#Operator % (modulus)\n",
        "day = 17 #day of the month\n",
        "#check if the day is even\n",
        "if day % 2 == 0:\n",
        "    print(\"Today is an even day of the month\")\n",
        "else:\n",
        "    print(\"It's an odd day of the month today\")"
      ],
      "metadata": {
        "colab": {
          "base_uri": "https://localhost:8080/"
        },
        "id": "9txcBwXxIKfa",
        "outputId": "19bbe610-c42d-440f-86d8-de59e9e60d8f"
      },
      "execution_count": null,
      "outputs": [
        {
          "output_type": "stream",
          "name": "stdout",
          "text": [
            "It's an odd day of the month today\n"
          ]
        }
      ]
    },
    {
      "cell_type": "code",
      "source": [
        "#Operators in Python\n",
        "#Operator // (floor division)\n",
        "#divides the first operator by the second\n",
        "#and returns the largest integer less than or\n",
        "#equal to the result\n",
        "a = 17\n",
        "b = 5\n",
        "print(a // b)"
      ],
      "metadata": {
        "colab": {
          "base_uri": "https://localhost:8080/"
        },
        "id": "N69Gp8KeIRAw",
        "outputId": "b8a11e47-676e-4a69-bc9a-23032dcdd146"
      },
      "execution_count": null,
      "outputs": [
        {
          "output_type": "stream",
          "name": "stdout",
          "text": [
            "3\n"
          ]
        }
      ]
    },
    {
      "cell_type": "code",
      "source": [
        "#Operators in Python\n",
        "#Operator // (floor division)\n",
        "#divides the first operator by the second\n",
        "#and returns the largest integer less than or\n",
        "#equal to the result\n",
        "total_people = 100\n",
        "numper_of_groups = 9\n",
        "print(total_people / numper_of_groups)\n",
        "#the line above will show fracton which you dont always want"
      ],
      "metadata": {
        "colab": {
          "base_uri": "https://localhost:8080/"
        },
        "id": "MqCtIRzlI7Yo",
        "outputId": "56632c27-c0df-4e63-b207-8cea5cde60ef"
      },
      "execution_count": null,
      "outputs": [
        {
          "output_type": "stream",
          "name": "stdout",
          "text": [
            "11.11111111111111\n"
          ]
        }
      ]
    },
    {
      "cell_type": "code",
      "source": [
        "#Operators in Python\n",
        "#Operator // (floor division)\n",
        "#divides the first operator by the second\n",
        "#and returns the largest integer less than or\n",
        "#equal to the result\n",
        "total_people = 100\n",
        "numper_of_groups = 9\n",
        "\n",
        "people_per_group = total_people // numper_of_groups\n",
        "print(people_per_group)"
      ],
      "metadata": {
        "colab": {
          "base_uri": "https://localhost:8080/"
        },
        "id": "PemqC7qHJPdP",
        "outputId": "7a42f02c-1720-4218-83eb-8d80ffb09884"
      },
      "execution_count": null,
      "outputs": [
        {
          "output_type": "stream",
          "name": "stdout",
          "text": [
            "11\n"
          ]
        }
      ]
    },
    {
      "cell_type": "code",
      "source": [
        "#Operators in Python\n",
        "#Operator // (floor division)\n",
        "#divides the first operator by the second\n",
        "#and returns the largest integer less than or\n",
        "#equal to the result\n",
        "total_people = 123\n",
        "numper_of_groups = 9\n",
        "\n",
        "people_per_group = total_people // numper_of_groups\n",
        "print(people_per_group)"
      ],
      "metadata": {
        "colab": {
          "base_uri": "https://localhost:8080/"
        },
        "id": "z1cJKfYFJpGk",
        "outputId": "ed2055af-ba5c-4bfd-c88a-53d8e033c556"
      },
      "execution_count": null,
      "outputs": [
        {
          "output_type": "stream",
          "name": "stdout",
          "text": [
            "13\n"
          ]
        }
      ]
    },
    {
      "cell_type": "code",
      "source": [
        "#Operators in Python\n",
        "#Precedence of Arithmetic Operators\n",
        "#follows correct math order regardless of how you wrote\n",
        "print(3 + 5 * 2 **2)"
      ],
      "metadata": {
        "colab": {
          "base_uri": "https://localhost:8080/"
        },
        "id": "0PtCNBaTJ41C",
        "outputId": "d0216cb2-0ad7-4ae3-ed9d-42d2a4975555"
      },
      "execution_count": null,
      "outputs": [
        {
          "output_type": "stream",
          "name": "stdout",
          "text": [
            "23\n"
          ]
        }
      ]
    },
    {
      "cell_type": "code",
      "source": [
        "#Operators in Python\n",
        "#Precedence of Arithmetic Operators\n",
        "#follows correct math order regardless of how you wrote\n",
        "print(((3 + 5) * 2) **2)"
      ],
      "metadata": {
        "colab": {
          "base_uri": "https://localhost:8080/"
        },
        "id": "vubKv-HCKTEk",
        "outputId": "fb37e32d-1ef5-41f8-f473-e7083b64a090"
      },
      "execution_count": null,
      "outputs": [
        {
          "output_type": "stream",
          "name": "stdout",
          "text": [
            "256\n"
          ]
        }
      ]
    },
    {
      "cell_type": "code",
      "source": [
        "test = 0b100\n",
        "print(\"100 binary: \", test)\n",
        "\n",
        "test = 0o100\n",
        "print(\"100 octal: \", test)\n",
        "\n",
        "test = 100\n",
        "print(\"100 decimal: \", test)\n",
        "\n",
        "test = 0x100\n",
        "print(\"100 hexadecimal: \", test)\n",
        "\n",
        "print(bin(100))\n",
        "print(oct(100))\n",
        "print(hex(100))"
      ],
      "metadata": {
        "colab": {
          "base_uri": "https://localhost:8080/"
        },
        "id": "5PE7rtKKLz1f",
        "outputId": "a7d38a85-5a48-4224-debc-2c574b3e9516"
      },
      "execution_count": null,
      "outputs": [
        {
          "output_type": "stream",
          "name": "stdout",
          "text": [
            "100 binary:  4\n",
            "100 octal:  64\n",
            "100 decimal:  100\n",
            "100 hexadecimal:  256\n",
            "0b1100100\n",
            "0o144\n",
            "0x64\n"
          ]
        }
      ]
    },
    {
      "cell_type": "code",
      "source": [
        "test = 255.0\n",
        "print(\"Direct Assignment: \", test)\n",
        "\n",
        "test = 2.55e2\n",
        "print(\"Scientific Notation: \", test)\n",
        "\n",
        "test = 2.55e-2\n",
        "print(\"Negative Exponent: \", test)"
      ],
      "metadata": {
        "colab": {
          "base_uri": "https://localhost:8080/"
        },
        "id": "JuR1Y86GMadm",
        "outputId": "efa997cf-29be-4b4b-effb-1e78fbd206be"
      },
      "execution_count": null,
      "outputs": [
        {
          "output_type": "stream",
          "name": "stdout",
          "text": [
            "Direct Assignment:  255.0\n",
            "Scientific Notation:  255.0\n",
            "Negative Exponent:  0.0255\n"
          ]
        }
      ]
    },
    {
      "cell_type": "code",
      "source": [
        "myComplex = 3 + 4j\n",
        "print(myComplex.real) #prints the real part of variable\n",
        "print(myComplex.imag) #prints the imaginary part of variable"
      ],
      "metadata": {
        "colab": {
          "base_uri": "https://localhost:8080/"
        },
        "id": "Z2sXzO2NM2EG",
        "outputId": "0b656cc7-97f1-4628-cb10-1e5d93b6004c"
      },
      "execution_count": null,
      "outputs": [
        {
          "output_type": "stream",
          "name": "stdout",
          "text": [
            "3.0\n",
            "4.0\n"
          ]
        }
      ]
    },
    {
      "cell_type": "code",
      "source": [
        "#booleans (true or false)\n",
        "a = 17\n",
        "b = 23\n",
        "myBol = a > b\n",
        "print(myBol)"
      ],
      "metadata": {
        "colab": {
          "base_uri": "https://localhost:8080/"
        },
        "id": "atxDc5WcNR_E",
        "outputId": "511575aa-29ad-4084-f16f-d5fa88fc094b"
      },
      "execution_count": null,
      "outputs": [
        {
          "output_type": "stream",
          "name": "stdout",
          "text": [
            "False\n"
          ]
        }
      ]
    },
    {
      "cell_type": "code",
      "source": [
        "#booleans (true or false)\n",
        "a = 17\n",
        "b = 23\n",
        "myBol = a < b\n",
        "print(myBol)"
      ],
      "metadata": {
        "colab": {
          "base_uri": "https://localhost:8080/"
        },
        "id": "Gopjiw3-Nfq6",
        "outputId": "946ceb31-7223-45e6-823b-fe683768ed68"
      },
      "execution_count": null,
      "outputs": [
        {
          "output_type": "stream",
          "name": "stdout",
          "text": [
            "True\n"
          ]
        }
      ]
    },
    {
      "cell_type": "code",
      "source": [
        "#working with date and times\n",
        "import datetime\n",
        "print(datetime.datetime.now())\n",
        "print(datetime.datetime.now().year)\n",
        "print(datetime.datetime.now().month)\n",
        "print(datetime.datetime.now().day)"
      ],
      "metadata": {
        "colab": {
          "base_uri": "https://localhost:8080/"
        },
        "id": "BLpZNSjGNwv-",
        "outputId": "a83be245-716a-4c50-f362-ce6922ac9b4a"
      },
      "execution_count": null,
      "outputs": [
        {
          "output_type": "stream",
          "name": "stdout",
          "text": [
            "2025-09-14 12:33:22.722804\n",
            "2025\n",
            "9\n",
            "14\n"
          ]
        }
      ]
    },
    {
      "cell_type": "code",
      "source": [
        "def Hello(): #this is a function, and it will run once you define it\n",
        "  print(\"This is my first Python function!\")\n",
        "\n",
        "Hello()\n"
      ],
      "metadata": {
        "colab": {
          "base_uri": "https://localhost:8080/"
        },
        "id": "RO1MlMR9O4-m",
        "outputId": "aaff9d51-21ce-43aa-8263-fe1944f2f57a"
      },
      "execution_count": null,
      "outputs": [
        {
          "output_type": "stream",
          "name": "stdout",
          "text": [
            "This is my first Python function!\n"
          ]
        }
      ]
    },
    {
      "cell_type": "code",
      "source": [
        "name = input(\"What is your name? \")\n",
        "print(\"Hello,\", name)"
      ],
      "metadata": {
        "colab": {
          "base_uri": "https://localhost:8080/"
        },
        "id": "ZnwxIoZAR4G8",
        "outputId": "8de63e2e-6b63-4263-87f8-cc4352845f2c"
      },
      "execution_count": null,
      "outputs": [
        {
          "output_type": "stream",
          "name": "stdout",
          "text": [
            "What is your name? Priscilla\n",
            "Hello, Priscilla\n"
          ]
        }
      ]
    },
    {
      "cell_type": "code",
      "source": [
        "ANumber = float(input(\"Enter a number: \"))\n",
        "print(\"You typed: \", ANumber)"
      ],
      "metadata": {
        "colab": {
          "base_uri": "https://localhost:8080/"
        },
        "id": "tWSlOooYSGMW",
        "outputId": "8db3277f-f471-453c-f7a5-3d937a6ad671"
      },
      "execution_count": null,
      "outputs": [
        {
          "output_type": "stream",
          "name": "stdout",
          "text": [
            "Enter a number: 23\n",
            "You typed:  23.0\n"
          ]
        }
      ]
    }
  ]
}