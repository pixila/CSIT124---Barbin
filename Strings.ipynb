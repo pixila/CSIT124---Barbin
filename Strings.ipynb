{
  "nbformat": 4,
  "nbformat_minor": 0,
  "metadata": {
    "colab": {
      "provenance": [],
      "authorship_tag": "ABX9TyNsP77flu+NPJOSfy6kyRDa",
      "include_colab_link": true
    },
    "kernelspec": {
      "name": "python3",
      "display_name": "Python 3"
    },
    "language_info": {
      "name": "python"
    }
  },
  "cells": [
    {
      "cell_type": "markdown",
      "metadata": {
        "id": "view-in-github",
        "colab_type": "text"
      },
      "source": [
        "<a href=\"https://colab.research.google.com/github/pixila/CSIT124---Barbin/blob/main/Strings.ipynb\" target=\"_parent\"><img src=\"https://colab.research.google.com/assets/colab-badge.svg\" alt=\"Open In Colab\"/></a>"
      ]
    },
    {
      "cell_type": "code",
      "execution_count": 1,
      "metadata": {
        "id": "Jf8AdePDDu0t"
      },
      "outputs": [],
      "source": [
        "my_string = \"Hello, World!\""
      ]
    },
    {
      "cell_type": "code",
      "source": [
        "first_char = my_string[0]\n",
        "second_char = my_string[1]"
      ],
      "metadata": {
        "id": "OhCFYHZQEH0-"
      },
      "execution_count": 2,
      "outputs": []
    },
    {
      "cell_type": "code",
      "source": [
        "print(\"First character:\", first_char)\n",
        "print(\"Second character:\", second_char)"
      ],
      "metadata": {
        "colab": {
          "base_uri": "https://localhost:8080/"
        },
        "id": "XcP_UP2VELct",
        "outputId": "db323b93-0aff-459d-9374-2f71d1d11c48"
      },
      "execution_count": 3,
      "outputs": [
        {
          "output_type": "stream",
          "name": "stdout",
          "text": [
            "First character: H\n",
            "Second character: e\n"
          ]
        }
      ]
    },
    {
      "cell_type": "code",
      "source": [
        "string1 = \"The quick brown fox jumps over the lazy dog.\""
      ],
      "metadata": {
        "id": "JVGWAydjEPjt"
      },
      "execution_count": 4,
      "outputs": []
    },
    {
      "cell_type": "code",
      "source": [
        "position = string1.find(\"brown\")"
      ],
      "metadata": {
        "id": "ToYyLyt9EWB1"
      },
      "execution_count": 5,
      "outputs": []
    },
    {
      "cell_type": "code",
      "source": [
        "if position != -1:\n",
        "  print(f\"The substring 'brown' is found at position {position}.\")\n",
        "else:\n",
        "  print(\"The substring is not found in the string.\")"
      ],
      "metadata": {
        "colab": {
          "base_uri": "https://localhost:8080/"
        },
        "id": "7Jnp487BEX_V",
        "outputId": "605a0055-4877-4c00-bbeb-4bca78bb9979"
      },
      "execution_count": 8,
      "outputs": [
        {
          "output_type": "stream",
          "name": "stdout",
          "text": [
            "The substring 'brown' is found at position 10.\n"
          ]
        }
      ]
    },
    {
      "cell_type": "code",
      "source": [
        "original_string = \"Programming is fun!\""
      ],
      "metadata": {
        "id": "jVHM9aHwFJ6Z"
      },
      "execution_count": 9,
      "outputs": []
    },
    {
      "cell_type": "code",
      "source": [
        "substring1 = original_string[13:]\n",
        "print(\"Substring 1:\", substring1)"
      ],
      "metadata": {
        "colab": {
          "base_uri": "https://localhost:8080/"
        },
        "id": "Jy7Ixpe4FKzt",
        "outputId": "392c28b3-c63d-412f-bf6d-45bea5996b07"
      },
      "execution_count": 10,
      "outputs": [
        {
          "output_type": "stream",
          "name": "stdout",
          "text": [
            "Substring 1: s fun!\n"
          ]
        }
      ]
    },
    {
      "cell_type": "code",
      "source": [
        "substring2 = original_string[0:15:2]\n",
        "print(\"Substring 2:\", substring2)"
      ],
      "metadata": {
        "colab": {
          "base_uri": "https://localhost:8080/"
        },
        "id": "c5HDgHDeFNBF",
        "outputId": "e784f54f-b254-4bca-b175-04860e329c89"
      },
      "execution_count": 11,
      "outputs": [
        {
          "output_type": "stream",
          "name": "stdout",
          "text": [
            "Substring 2: Pormigi \n"
          ]
        }
      ]
    },
    {
      "cell_type": "code",
      "source": [
        "print(max(original_string))"
      ],
      "metadata": {
        "colab": {
          "base_uri": "https://localhost:8080/"
        },
        "id": "sYvamWCoFXC1",
        "outputId": "20f15591-7684-4980-8e4c-676d41d1dc29"
      },
      "execution_count": 12,
      "outputs": [
        {
          "output_type": "stream",
          "name": "stdout",
          "text": [
            "u\n"
          ]
        }
      ]
    },
    {
      "cell_type": "code",
      "source": [],
      "metadata": {
        "id": "NTLVxhHHFZ29"
      },
      "execution_count": null,
      "outputs": []
    }
  ]
}